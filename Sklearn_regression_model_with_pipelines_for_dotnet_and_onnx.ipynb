{
  "nbformat": 4,
  "nbformat_minor": 0,
  "metadata": {
    "colab": {
      "provenance": [],
      "authorship_tag": "ABX9TyNaFi/oPUb4gwuhkkEpVHuW",
      "include_colab_link": true
    },
    "kernelspec": {
      "name": "python3",
      "display_name": "Python 3"
    },
    "language_info": {
      "name": "python"
    }
  },
  "cells": [
    {
      "cell_type": "markdown",
      "metadata": {
        "id": "view-in-github",
        "colab_type": "text"
      },
      "source": [
        "<a href=\"https://colab.research.google.com/github/CheyPenmetsa/Scikit-Learn-Models/blob/master/Sklearn_regression_model_with_pipelines_for_dotnet_and_onnx.ipynb\" target=\"_parent\"><img src=\"https://colab.research.google.com/assets/colab-badge.svg\" alt=\"Open In Colab\"/></a>"
      ]
    },
    {
      "cell_type": "code",
      "execution_count": null,
      "metadata": {
        "colab": {
          "base_uri": "https://localhost:8080/"
        },
        "id": "0wkjkO9ShbKX",
        "outputId": "75b45494-dfa9-40c2-b030-ca652367347b"
      },
      "outputs": [
        {
          "output_type": "execute_result",
          "data": {
            "text/plain": [
              "0.8638481252646879"
            ]
          },
          "metadata": {},
          "execution_count": 4
        }
      ],
      "source": [
        "# Getting data ready\n",
        "import pandas as pd\n",
        "import numpy as np\n",
        "from sklearn.compose import ColumnTransformer\n",
        "from sklearn.pipeline import Pipeline\n",
        "from sklearn.impute import SimpleImputer\n",
        "from sklearn.preprocessing import OneHotEncoder\n",
        "\n",
        "# Modeling\n",
        "from sklearn.ensemble import RandomForestRegressor\n",
        "from sklearn.model_selection import train_test_split, GridSearchCV\n",
        "\n",
        "# Setup random seed\n",
        "np.random.seed(28)\n",
        "\n",
        "# Import data and drop rows with missing labels.\n",
        "car_sales_vol_df = pd.read_csv('large-car-sales.csv')\n",
        "car_sales_vol_df.dropna(subset=['Price'], inplace=True)\n",
        "car_sales_vol_df.drop(columns=['Dealer'], inplace=True)\n",
        "\n",
        "# SimpleImputer on string is not available for\n",
        "# string in ONNX-ML specifications.\n",
        "# So we do it beforehand.\n",
        "for cat in ['Brand', 'Model', 'Status']:\n",
        "    car_sales_vol_df[cat].fillna(\"missing\", inplace=True)\n",
        "\n",
        "# Define different features and transformer pipeline\n",
        "categorical_features = ['Brand', 'Model', 'Status']\n",
        "categorical_transformer = Pipeline(steps=[\n",
        "    # --- SimpleImputer is not available for strings in ONNX-ML specifications.\n",
        "    # ('imputer', SimpleImputer(strategy='constant', fill_value='missing')),\n",
        "    ('onehot', OneHotEncoder(handle_unknown='ignore'))\n",
        "])\n",
        "\n",
        "mileage_feature = ['Mileage']\n",
        "mileage_transformer = Pipeline(steps=[\n",
        "    ('imputer', SimpleImputer(strategy='mean'))\n",
        "])\n",
        "\n",
        "year_feature = ['Year']\n",
        "year_transformer = Pipeline(steps=[\n",
        "    ('imputer', SimpleImputer(strategy='constant', fill_value=2023))\n",
        "])\n",
        "\n",
        "# Setup preprocessing steps (fill missing values, then convert to numbers)\n",
        "preprocessor = ColumnTransformer(transformers=\n",
        "                                 [\n",
        "                                     ('cat', categorical_transformer, categorical_features),\n",
        "                                     ('mileage', mileage_transformer, mileage_feature),\n",
        "                                     ('year', year_transformer, year_feature)\n",
        "                                 ])\n",
        "\n",
        "# Creating a preprocessing and modeling pipeline\n",
        "model = Pipeline(steps=[\n",
        "    ('preprocessor', preprocessor),\n",
        "    ('model', RandomForestRegressor())\n",
        "])\n",
        "\n",
        "# Split data\n",
        "X = car_sales_vol_df.drop('Price', axis=1)\n",
        "y = car_sales_vol_df['Price']\n",
        "X_train, X_test, y_train, y_test = train_test_split(X, y, test_size=0.2)\n",
        "\n",
        "# Fit and score the model\n",
        "model.fit(X_train, y_train)\n",
        "model.score(X_test, y_test)"
      ]
    },
    {
      "cell_type": "code",
      "source": [
        "X_train.dtypes"
      ],
      "metadata": {
        "colab": {
          "base_uri": "https://localhost:8080/"
        },
        "id": "9gvHQ_U4iRx9",
        "outputId": "aa58ed9d-9176-41a7-fecc-a64f3c0b3a95"
      },
      "execution_count": null,
      "outputs": [
        {
          "output_type": "execute_result",
          "data": {
            "text/plain": [
              "Brand       object\n",
              "Model       object\n",
              "Year         int64\n",
              "Status      object\n",
              "Mileage    float64\n",
              "dtype: object"
            ]
          },
          "metadata": {},
          "execution_count": 2
        }
      ]
    },
    {
      "cell_type": "code",
      "source": [
        "%pip install skl2onnx"
      ],
      "metadata": {
        "id": "u2C6f7DXjRD6"
      },
      "execution_count": null,
      "outputs": []
    },
    {
      "cell_type": "code",
      "source": [
        "import skl2onnx\n",
        "from skl2onnx import convert_sklearn\n",
        "from skl2onnx.common.data_types import FloatTensorType, StringTensorType\n",
        "from skl2onnx.common.data_types import Int64TensorType"
      ],
      "metadata": {
        "id": "p7LtZesKjOjd"
      },
      "execution_count": null,
      "outputs": []
    },
    {
      "cell_type": "code",
      "source": [
        "def convert_dataframe_schema(df, drop=None):\n",
        "    inputs = []\n",
        "    for k, v in zip(df.columns, df.dtypes):\n",
        "        if drop is not None and k in drop:\n",
        "            continue\n",
        "        if v == \"int64\":\n",
        "            t = Int64TensorType([None, 1])\n",
        "        elif v == \"float64\":\n",
        "            t = FloatTensorType([None, 1])\n",
        "        else:\n",
        "            t = StringTensorType([None, 1])\n",
        "        inputs.append((k, t))\n",
        "    return inputs\n",
        "\n",
        "\n",
        "initial_inputs = convert_dataframe_schema(X_train)"
      ],
      "metadata": {
        "id": "1WaCAiCijEaM"
      },
      "execution_count": null,
      "outputs": []
    },
    {
      "cell_type": "code",
      "source": [
        "initial_inputs"
      ],
      "metadata": {
        "colab": {
          "base_uri": "https://localhost:8080/"
        },
        "id": "5I5roxSajrea",
        "outputId": "0c3fb923-d2cf-4a58-942e-881261881979"
      },
      "execution_count": null,
      "outputs": [
        {
          "output_type": "execute_result",
          "data": {
            "text/plain": [
              "[('Brand', StringTensorType(shape=[None, 1])),\n",
              " ('Model', StringTensorType(shape=[None, 1])),\n",
              " ('Year', Int64TensorType(shape=[None, 1])),\n",
              " ('Status', StringTensorType(shape=[None, 1])),\n",
              " ('Mileage', FloatTensorType(shape=[None, 1]))]"
            ]
          },
          "metadata": {},
          "execution_count": 7
        }
      ]
    },
    {
      "cell_type": "code",
      "source": [
        "ONNXModelPath = 'PricePrediction_RegressionModel.onnx'\n",
        "\n",
        "initial_inputs = [('string_input', StringTensorType([None, 3])),\n",
        "                  ('int_input', Int64TensorType([None, 1])),\n",
        "                  ('float_input', FloatTensorType([None, 1]))]\n",
        "\n",
        "# Create ONNX model\n",
        "try:\n",
        "    model_onnx = convert_sklearn(\n",
        "        model, \"pipeline_priceprediction\", initial_inputs, target_opset=skl2onnx.get_latest_tested_opset_version()\n",
        "    )\n",
        "\n",
        "    # Save ONNX model\n",
        "    with open(ONNXModelPath, \"wb\") as f:\n",
        "      f.write(model_onnx.SerializeToString())\n",
        "except Exception as e:\n",
        "    print(e)"
      ],
      "metadata": {
        "colab": {
          "base_uri": "https://localhost:8080/"
        },
        "id": "rpApdECujuQy",
        "outputId": "37c50e20-32c5-47f9-a2c4-875b028c9871"
      },
      "execution_count": null,
      "outputs": [
        {
          "output_type": "stream",
          "name": "stdout",
          "text": [
            "Imputer cannot fill missing values with a string 'missing'.\n"
          ]
        }
      ]
    },
    {
      "cell_type": "code",
      "source": [
        "X_train.iloc[65]"
      ],
      "metadata": {
        "colab": {
          "base_uri": "https://localhost:8080/"
        },
        "id": "ZsTivWhRtnGO",
        "outputId": "9435f6e4-8bc8-4073-e57b-6f9b02f8f70b"
      },
      "execution_count": null,
      "outputs": [
        {
          "output_type": "execute_result",
          "data": {
            "text/plain": [
              "Brand      Volkswagen\n",
              "Model            Golf\n",
              "Year             2023\n",
              "Status            New\n",
              "Mileage           NaN\n",
              "Name: 26066, dtype: object"
            ]
          },
          "metadata": {},
          "execution_count": 20
        }
      ]
    },
    {
      "cell_type": "code",
      "source": [
        "model.predict(X_train[:5])"
      ],
      "metadata": {
        "colab": {
          "base_uri": "https://localhost:8080/"
        },
        "id": "chFF3E0rmpU_",
        "outputId": "3c2ec80c-83b3-4ed8-b7f3-8fb3e1bb4caa"
      },
      "execution_count": null,
      "outputs": [
        {
          "output_type": "execute_result",
          "data": {
            "text/plain": [
              "array([25110.95790621, 67955.04      , 82687.56365474, 74074.9857496 ,\n",
              "       34761.        ])"
            ]
          },
          "metadata": {},
          "execution_count": 18
        }
      ]
    },
    {
      "cell_type": "code",
      "source": [
        "y_test.dtype"
      ],
      "metadata": {
        "colab": {
          "base_uri": "https://localhost:8080/"
        },
        "id": "HTXgx1iEs8Py",
        "outputId": "e0f56d9e-1c32-4e8f-b952-594b4c461d3d"
      },
      "execution_count": null,
      "outputs": [
        {
          "output_type": "execute_result",
          "data": {
            "text/plain": [
              "dtype('float64')"
            ]
          },
          "metadata": {},
          "execution_count": 21
        }
      ]
    },
    {
      "cell_type": "code",
      "source": [
        "ONNXModelPath = 'PricePrediction_RegressionModel1.onnx'\n",
        "\n",
        "initial_inputs = [('Brand', StringTensorType([None, 1])),\n",
        "                  ('Model', StringTensorType([None, 1])),\n",
        "                  ('Year', Int64TensorType([None, 1])),\n",
        "                  ('Status', StringTensorType([None, 1])),\n",
        "                  ('Mileage', FloatTensorType([None, 1]))]\n",
        "\n",
        "onnx = convert_sklearn(model, initial_types=initial_inputs)\n",
        "\n",
        "with open(ONNXModelPath, 'wb') as f:\n",
        "  f.write(onnx.SerializeToString())"
      ],
      "metadata": {
        "id": "HBhMk7cn3odK"
      },
      "execution_count": null,
      "outputs": []
    },
    {
      "cell_type": "code",
      "source": [],
      "metadata": {
        "id": "A9X3iqUc5U-5"
      },
      "execution_count": null,
      "outputs": []
    }
  ]
}